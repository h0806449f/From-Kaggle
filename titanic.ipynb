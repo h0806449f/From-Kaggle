{
 "cells": [
  {
   "cell_type": "markdown",
   "id": "b472fd38",
   "metadata": {
    "papermill": {
     "duration": 0.004822,
     "end_time": "2023-05-16T04:21:51.186368",
     "exception": false,
     "start_time": "2023-05-16T04:21:51.181546",
     "status": "completed"
    },
    "tags": []
   },
   "source": [
    "# import 資料集"
   ]
  },
  {
   "cell_type": "code",
   "execution_count": 1,
   "id": "6c77dafe",
   "metadata": {
    "execution": {
     "iopub.execute_input": "2023-05-16T04:21:51.196756Z",
     "iopub.status.busy": "2023-05-16T04:21:51.196360Z",
     "iopub.status.idle": "2023-05-16T04:21:51.234300Z",
     "shell.execute_reply": "2023-05-16T04:21:51.233050Z"
    },
    "papermill": {
     "duration": 0.046105,
     "end_time": "2023-05-16T04:21:51.236754",
     "exception": false,
     "start_time": "2023-05-16T04:21:51.190649",
     "status": "completed"
    },
    "tags": []
   },
   "outputs": [],
   "source": [
    "import pandas as pd\n",
    "train = pd.read_csv(\"/kaggle/input/titanic/train.csv\", encoding=\"utf-8\")\n",
    "test = pd.read_csv(\"/kaggle/input/titanic/test.csv\", encoding=\"utf-8\")"
   ]
  },
  {
   "cell_type": "code",
   "execution_count": 2,
   "id": "3d002cec",
   "metadata": {
    "collapsed": true,
    "execution": {
     "iopub.execute_input": "2023-05-16T04:21:51.247087Z",
     "iopub.status.busy": "2023-05-16T04:21:51.246726Z",
     "iopub.status.idle": "2023-05-16T04:21:51.253884Z",
     "shell.execute_reply": "2023-05-16T04:21:51.252984Z"
    },
    "jupyter": {
     "outputs_hidden": true
    },
    "papermill": {
     "duration": 0.014026,
     "end_time": "2023-05-16T04:21:51.255443",
     "exception": false,
     "start_time": "2023-05-16T04:21:51.241417",
     "status": "completed"
    },
    "tags": []
   },
   "outputs": [
    {
     "data": {
      "text/plain": [
       "(['PassengerId',\n",
       "  'Survived',\n",
       "  'Pclass',\n",
       "  'Name',\n",
       "  'Sex',\n",
       "  'Age',\n",
       "  'SibSp',\n",
       "  'Parch',\n",
       "  'Ticket',\n",
       "  'Fare',\n",
       "  'Cabin',\n",
       "  'Embarked'],\n",
       " ['PassengerId',\n",
       "  'Pclass',\n",
       "  'Name',\n",
       "  'Sex',\n",
       "  'Age',\n",
       "  'SibSp',\n",
       "  'Parch',\n",
       "  'Ticket',\n",
       "  'Fare',\n",
       "  'Cabin',\n",
       "  'Embarked'])"
      ]
     },
     "execution_count": 2,
     "metadata": {},
     "output_type": "execute_result"
    }
   ],
   "source": [
    "# check df\n",
    "train.columns.tolist(), test.columns.tolist()"
   ]
  },
  {
   "cell_type": "markdown",
   "id": "b0d75545",
   "metadata": {
    "papermill": {
     "duration": 0.004219,
     "end_time": "2023-05-16T04:21:51.264185",
     "exception": false,
     "start_time": "2023-05-16T04:21:51.259966",
     "status": "completed"
    },
    "tags": []
   },
   "source": [
    "# 資料預處理\n",
    "1. 處理缺失值\n",
    "    1. 數值型 -> 填補中位數\n",
    "    2. 類別型 -> 填補最常出現的類別\n",
    "2. One-Hot\n",
    "3. 萃取更多欄位資訊"
   ]
  },
  {
   "cell_type": "code",
   "execution_count": 3,
   "id": "f20209c6",
   "metadata": {
    "execution": {
     "iopub.execute_input": "2023-05-16T04:21:51.274379Z",
     "iopub.status.busy": "2023-05-16T04:21:51.274067Z",
     "iopub.status.idle": "2023-05-16T04:21:51.316305Z",
     "shell.execute_reply": "2023-05-16T04:21:51.315472Z"
    },
    "papermill": {
     "duration": 0.050206,
     "end_time": "2023-05-16T04:21:51.318722",
     "exception": false,
     "start_time": "2023-05-16T04:21:51.268516",
     "status": "completed"
    },
    "tags": []
   },
   "outputs": [
    {
     "data": {
      "text/html": [
       "<div>\n",
       "<style scoped>\n",
       "    .dataframe tbody tr th:only-of-type {\n",
       "        vertical-align: middle;\n",
       "    }\n",
       "\n",
       "    .dataframe tbody tr th {\n",
       "        vertical-align: top;\n",
       "    }\n",
       "\n",
       "    .dataframe thead th {\n",
       "        text-align: right;\n",
       "    }\n",
       "</style>\n",
       "<table border=\"1\" class=\"dataframe\">\n",
       "  <thead>\n",
       "    <tr style=\"text-align: right;\">\n",
       "      <th></th>\n",
       "      <th>Pclass</th>\n",
       "      <th>Name</th>\n",
       "      <th>Sex</th>\n",
       "      <th>Age</th>\n",
       "      <th>SibSp</th>\n",
       "      <th>Parch</th>\n",
       "      <th>Ticket</th>\n",
       "      <th>Fare</th>\n",
       "      <th>Cabin</th>\n",
       "      <th>Embarked</th>\n",
       "    </tr>\n",
       "  </thead>\n",
       "  <tbody>\n",
       "    <tr>\n",
       "      <th>0</th>\n",
       "      <td>3</td>\n",
       "      <td>Braund, Mr. Owen Harris</td>\n",
       "      <td>male</td>\n",
       "      <td>22.0</td>\n",
       "      <td>1</td>\n",
       "      <td>0</td>\n",
       "      <td>A/5 21171</td>\n",
       "      <td>7.2500</td>\n",
       "      <td>NaN</td>\n",
       "      <td>S</td>\n",
       "    </tr>\n",
       "    <tr>\n",
       "      <th>1</th>\n",
       "      <td>1</td>\n",
       "      <td>Cumings, Mrs. John Bradley (Florence Briggs Th...</td>\n",
       "      <td>female</td>\n",
       "      <td>38.0</td>\n",
       "      <td>1</td>\n",
       "      <td>0</td>\n",
       "      <td>PC 17599</td>\n",
       "      <td>71.2833</td>\n",
       "      <td>C85</td>\n",
       "      <td>C</td>\n",
       "    </tr>\n",
       "    <tr>\n",
       "      <th>2</th>\n",
       "      <td>3</td>\n",
       "      <td>Heikkinen, Miss. Laina</td>\n",
       "      <td>female</td>\n",
       "      <td>26.0</td>\n",
       "      <td>0</td>\n",
       "      <td>0</td>\n",
       "      <td>STON/O2. 3101282</td>\n",
       "      <td>7.9250</td>\n",
       "      <td>NaN</td>\n",
       "      <td>S</td>\n",
       "    </tr>\n",
       "    <tr>\n",
       "      <th>3</th>\n",
       "      <td>1</td>\n",
       "      <td>Futrelle, Mrs. Jacques Heath (Lily May Peel)</td>\n",
       "      <td>female</td>\n",
       "      <td>35.0</td>\n",
       "      <td>1</td>\n",
       "      <td>0</td>\n",
       "      <td>113803</td>\n",
       "      <td>53.1000</td>\n",
       "      <td>C123</td>\n",
       "      <td>S</td>\n",
       "    </tr>\n",
       "    <tr>\n",
       "      <th>4</th>\n",
       "      <td>3</td>\n",
       "      <td>Allen, Mr. William Henry</td>\n",
       "      <td>male</td>\n",
       "      <td>35.0</td>\n",
       "      <td>0</td>\n",
       "      <td>0</td>\n",
       "      <td>373450</td>\n",
       "      <td>8.0500</td>\n",
       "      <td>NaN</td>\n",
       "      <td>S</td>\n",
       "    </tr>\n",
       "    <tr>\n",
       "      <th>...</th>\n",
       "      <td>...</td>\n",
       "      <td>...</td>\n",
       "      <td>...</td>\n",
       "      <td>...</td>\n",
       "      <td>...</td>\n",
       "      <td>...</td>\n",
       "      <td>...</td>\n",
       "      <td>...</td>\n",
       "      <td>...</td>\n",
       "      <td>...</td>\n",
       "    </tr>\n",
       "    <tr>\n",
       "      <th>413</th>\n",
       "      <td>3</td>\n",
       "      <td>Spector, Mr. Woolf</td>\n",
       "      <td>male</td>\n",
       "      <td>NaN</td>\n",
       "      <td>0</td>\n",
       "      <td>0</td>\n",
       "      <td>A.5. 3236</td>\n",
       "      <td>8.0500</td>\n",
       "      <td>NaN</td>\n",
       "      <td>S</td>\n",
       "    </tr>\n",
       "    <tr>\n",
       "      <th>414</th>\n",
       "      <td>1</td>\n",
       "      <td>Oliva y Ocana, Dona. Fermina</td>\n",
       "      <td>female</td>\n",
       "      <td>39.0</td>\n",
       "      <td>0</td>\n",
       "      <td>0</td>\n",
       "      <td>PC 17758</td>\n",
       "      <td>108.9000</td>\n",
       "      <td>C105</td>\n",
       "      <td>C</td>\n",
       "    </tr>\n",
       "    <tr>\n",
       "      <th>415</th>\n",
       "      <td>3</td>\n",
       "      <td>Saether, Mr. Simon Sivertsen</td>\n",
       "      <td>male</td>\n",
       "      <td>38.5</td>\n",
       "      <td>0</td>\n",
       "      <td>0</td>\n",
       "      <td>SOTON/O.Q. 3101262</td>\n",
       "      <td>7.2500</td>\n",
       "      <td>NaN</td>\n",
       "      <td>S</td>\n",
       "    </tr>\n",
       "    <tr>\n",
       "      <th>416</th>\n",
       "      <td>3</td>\n",
       "      <td>Ware, Mr. Frederick</td>\n",
       "      <td>male</td>\n",
       "      <td>NaN</td>\n",
       "      <td>0</td>\n",
       "      <td>0</td>\n",
       "      <td>359309</td>\n",
       "      <td>8.0500</td>\n",
       "      <td>NaN</td>\n",
       "      <td>S</td>\n",
       "    </tr>\n",
       "    <tr>\n",
       "      <th>417</th>\n",
       "      <td>3</td>\n",
       "      <td>Peter, Master. Michael J</td>\n",
       "      <td>male</td>\n",
       "      <td>NaN</td>\n",
       "      <td>1</td>\n",
       "      <td>1</td>\n",
       "      <td>2668</td>\n",
       "      <td>22.3583</td>\n",
       "      <td>NaN</td>\n",
       "      <td>C</td>\n",
       "    </tr>\n",
       "  </tbody>\n",
       "</table>\n",
       "<p>1309 rows × 10 columns</p>\n",
       "</div>"
      ],
      "text/plain": [
       "     Pclass                                               Name     Sex   Age  \\\n",
       "0         3                            Braund, Mr. Owen Harris    male  22.0   \n",
       "1         1  Cumings, Mrs. John Bradley (Florence Briggs Th...  female  38.0   \n",
       "2         3                             Heikkinen, Miss. Laina  female  26.0   \n",
       "3         1       Futrelle, Mrs. Jacques Heath (Lily May Peel)  female  35.0   \n",
       "4         3                           Allen, Mr. William Henry    male  35.0   \n",
       "..      ...                                                ...     ...   ...   \n",
       "413       3                                 Spector, Mr. Woolf    male   NaN   \n",
       "414       1                       Oliva y Ocana, Dona. Fermina  female  39.0   \n",
       "415       3                       Saether, Mr. Simon Sivertsen    male  38.5   \n",
       "416       3                                Ware, Mr. Frederick    male   NaN   \n",
       "417       3                           Peter, Master. Michael J    male   NaN   \n",
       "\n",
       "     SibSp  Parch              Ticket      Fare Cabin Embarked  \n",
       "0        1      0           A/5 21171    7.2500   NaN        S  \n",
       "1        1      0            PC 17599   71.2833   C85        C  \n",
       "2        0      0    STON/O2. 3101282    7.9250   NaN        S  \n",
       "3        1      0              113803   53.1000  C123        S  \n",
       "4        0      0              373450    8.0500   NaN        S  \n",
       "..     ...    ...                 ...       ...   ...      ...  \n",
       "413      0      0           A.5. 3236    8.0500   NaN        S  \n",
       "414      0      0            PC 17758  108.9000  C105        C  \n",
       "415      0      0  SOTON/O.Q. 3101262    7.2500   NaN        S  \n",
       "416      0      0              359309    8.0500   NaN        S  \n",
       "417      1      1                2668   22.3583   NaN        C  \n",
       "\n",
       "[1309 rows x 10 columns]"
      ]
     },
     "execution_count": 3,
     "metadata": {},
     "output_type": "execute_result"
    }
   ],
   "source": [
    "total = pd.concat( [train, test], axis=0 )\n",
    "total = total.drop( [\"PassengerId\", \"Survived\"], axis=1 )\n",
    "total"
   ]
  },
  {
   "cell_type": "code",
   "execution_count": 4,
   "id": "1ebaac44",
   "metadata": {
    "execution": {
     "iopub.execute_input": "2023-05-16T04:21:51.330513Z",
     "iopub.status.busy": "2023-05-16T04:21:51.330170Z",
     "iopub.status.idle": "2023-05-16T04:21:51.337899Z",
     "shell.execute_reply": "2023-05-16T04:21:51.337055Z"
    },
    "papermill": {
     "duration": 0.01581,
     "end_time": "2023-05-16T04:21:51.340025",
     "exception": false,
     "start_time": "2023-05-16T04:21:51.324215",
     "status": "completed"
    },
    "tags": []
   },
   "outputs": [],
   "source": [
    "# Cabin\n",
    "def cabin_preprocess(c):\n",
    "    if pd.isna(c):\n",
    "        return c\n",
    "    else:\n",
    "        return c[0]\n",
    "\n",
    "total[\"Cabin\"].apply(cabin_preprocess)\n",
    "total[\"Cabin\"] = total[\"Cabin\"].apply(cabin_preprocess)"
   ]
  },
  {
   "cell_type": "code",
   "execution_count": 5,
   "id": "5169d774",
   "metadata": {
    "execution": {
     "iopub.execute_input": "2023-05-16T04:21:51.351456Z",
     "iopub.status.busy": "2023-05-16T04:21:51.351159Z",
     "iopub.status.idle": "2023-05-16T04:21:51.377829Z",
     "shell.execute_reply": "2023-05-16T04:21:51.376908Z"
    },
    "papermill": {
     "duration": 0.034898,
     "end_time": "2023-05-16T04:21:51.380070",
     "exception": false,
     "start_time": "2023-05-16T04:21:51.345172",
     "status": "completed"
    },
    "tags": []
   },
   "outputs": [],
   "source": [
    "# Ticket\n",
    "ticket_count = total[\"Ticket\"].value_counts()   # 多少人持有同一張票類\n",
    "\n",
    "def ticket_preprocess(t):\n",
    "    if pd.isna(t):\n",
    "        return t\n",
    "    else:\n",
    "        return ticket_count[t]\n",
    "\n",
    "total[\"Ticket\"].apply(ticket_preprocess)\n",
    "total[\"Ticket\"] = total[\"Ticket\"].apply(ticket_preprocess)"
   ]
  },
  {
   "cell_type": "code",
   "execution_count": 6,
   "id": "eaa6f555",
   "metadata": {
    "execution": {
     "iopub.execute_input": "2023-05-16T04:21:51.391170Z",
     "iopub.status.busy": "2023-05-16T04:21:51.390841Z",
     "iopub.status.idle": "2023-05-16T04:21:51.400775Z",
     "shell.execute_reply": "2023-05-16T04:21:51.399748Z"
    },
    "papermill": {
     "duration": 0.017458,
     "end_time": "2023-05-16T04:21:51.402607",
     "exception": false,
     "start_time": "2023-05-16T04:21:51.385149",
     "status": "completed"
    },
    "tags": []
   },
   "outputs": [],
   "source": [
    "# Name\n",
    "total[\"Name\"].isna().value_counts()   # 確認姓名無空值\n",
    "\n",
    "def name_preprocess(n):\n",
    "    return n.split(\".\")[0].split(\",\")[-1]\n",
    "    \n",
    "\n",
    "total[\"Name\"].apply(name_preprocess)\n",
    "total[\"Name\"] = total[\"Name\"].apply(name_preprocess)"
   ]
  },
  {
   "cell_type": "code",
   "execution_count": 7,
   "id": "5e4d4d79",
   "metadata": {
    "execution": {
     "iopub.execute_input": "2023-05-16T04:21:51.413894Z",
     "iopub.status.busy": "2023-05-16T04:21:51.413567Z",
     "iopub.status.idle": "2023-05-16T04:21:51.432209Z",
     "shell.execute_reply": "2023-05-16T04:21:51.430464Z"
    },
    "papermill": {
     "duration": 0.027036,
     "end_time": "2023-05-16T04:21:51.434702",
     "exception": false,
     "start_time": "2023-05-16T04:21:51.407666",
     "status": "completed"
    },
    "tags": []
   },
   "outputs": [
    {
     "name": "stderr",
     "output_type": "stream",
     "text": [
      "/tmp/ipykernel_21/2804814124.py:2: FutureWarning: The default value of numeric_only in DataFrame.median is deprecated. In a future version, it will default to False. In addition, specifying 'numeric_only=None' is deprecated. Select only valid columns or specify the value of numeric_only to silence this warning.\n",
      "  total.median()   # Pclass 是不是 數值型類別 可再研究 (這邊先當類別型)\n",
      "/tmp/ipykernel_21/2804814124.py:3: FutureWarning: The default value of numeric_only in DataFrame.median is deprecated. In a future version, it will default to False. In addition, specifying 'numeric_only=None' is deprecated. Select only valid columns or specify the value of numeric_only to silence this warning.\n",
      "  median = total.median().drop(\"Pclass\")\n"
     ]
    }
   ],
   "source": [
    "# 找尋數值類別的缺失值 -> 填補中位數\n",
    "total.median()   # Pclass 是不是 數值型類別 可再研究 (這邊先當類別型)\n",
    "median = total.median().drop(\"Pclass\")\n",
    "\n",
    "total.fillna(median)\n",
    "total = total.fillna(median)"
   ]
  },
  {
   "cell_type": "code",
   "execution_count": 8,
   "id": "1fe36ffd",
   "metadata": {
    "execution": {
     "iopub.execute_input": "2023-05-16T04:21:51.446880Z",
     "iopub.status.busy": "2023-05-16T04:21:51.446545Z",
     "iopub.status.idle": "2023-05-16T04:21:51.454727Z",
     "shell.execute_reply": "2023-05-16T04:21:51.454002Z"
    },
    "papermill": {
     "duration": 0.016423,
     "end_time": "2023-05-16T04:21:51.456505",
     "exception": false,
     "start_time": "2023-05-16T04:21:51.440082",
     "status": "completed"
    },
    "tags": []
   },
   "outputs": [],
   "source": [
    "# Embarked\n",
    "# 類別型 -> 填補最常出現的值\n",
    "total[\"Embarked\"].value_counts()\n",
    "most = total[\"Embarked\"].value_counts().idxmax()\n",
    "\n",
    "total[\"Embarked\"].fillna(most)\n",
    "total[\"Embarked\"] = total[\"Embarked\"].fillna(most)"
   ]
  },
  {
   "cell_type": "code",
   "execution_count": 9,
   "id": "9996439d",
   "metadata": {
    "execution": {
     "iopub.execute_input": "2023-05-16T04:21:51.468220Z",
     "iopub.status.busy": "2023-05-16T04:21:51.467830Z",
     "iopub.status.idle": "2023-05-16T04:21:51.472508Z",
     "shell.execute_reply": "2023-05-16T04:21:51.471242Z"
    },
    "papermill": {
     "duration": 0.012621,
     "end_time": "2023-05-16T04:21:51.474280",
     "exception": false,
     "start_time": "2023-05-16T04:21:51.461659",
     "status": "completed"
    },
    "tags": []
   },
   "outputs": [],
   "source": [
    "# 類別型資料 需額外再處理 -> One hot encoding\n",
    "# 剛剛 drop 的 \"Pclass\" 有必要做嗎? (需實際測試過, 才知道效果)\n",
    "# Sex 二值型資料 可做可不做"
   ]
  },
  {
   "cell_type": "code",
   "execution_count": 10,
   "id": "ddca8a67",
   "metadata": {
    "execution": {
     "iopub.execute_input": "2023-05-16T04:21:51.486283Z",
     "iopub.status.busy": "2023-05-16T04:21:51.485863Z",
     "iopub.status.idle": "2023-05-16T04:21:51.505373Z",
     "shell.execute_reply": "2023-05-16T04:21:51.504438Z"
    },
    "papermill": {
     "duration": 0.02796,
     "end_time": "2023-05-16T04:21:51.507415",
     "exception": false,
     "start_time": "2023-05-16T04:21:51.479455",
     "status": "completed"
    },
    "tags": []
   },
   "outputs": [],
   "source": [
    "# Name -> One hot encoding\n",
    "name_count = total[\"Name\"].value_counts()\n",
    "name_count[ name_count > 10 ]\n",
    "\n",
    "name_reserved = name_count[ name_count > 10 ].index\n",
    "\n",
    "def name_onehot(n):\n",
    "    if n in name_reserved:\n",
    "        return n\n",
    "    else:\n",
    "        return None\n",
    "\n",
    "total[\"Name\"].apply(name_onehot)\n",
    "total[\"Name\"] = total[\"Name\"].apply(name_onehot)\n",
    "\n",
    "# One hot encoding\n",
    "total = pd.get_dummies(total)   # 一次對所有字串類的資料 one hot encoding"
   ]
  },
  {
   "cell_type": "code",
   "execution_count": 11,
   "id": "faf4ef95",
   "metadata": {
    "execution": {
     "iopub.execute_input": "2023-05-16T04:21:51.519253Z",
     "iopub.status.busy": "2023-05-16T04:21:51.518895Z",
     "iopub.status.idle": "2023-05-16T04:21:51.545884Z",
     "shell.execute_reply": "2023-05-16T04:21:51.544957Z"
    },
    "papermill": {
     "duration": 0.035545,
     "end_time": "2023-05-16T04:21:51.548269",
     "exception": false,
     "start_time": "2023-05-16T04:21:51.512724",
     "status": "completed"
    },
    "tags": []
   },
   "outputs": [
    {
     "data": {
      "text/html": [
       "<div>\n",
       "<style scoped>\n",
       "    .dataframe tbody tr th:only-of-type {\n",
       "        vertical-align: middle;\n",
       "    }\n",
       "\n",
       "    .dataframe tbody tr th {\n",
       "        vertical-align: top;\n",
       "    }\n",
       "\n",
       "    .dataframe thead th {\n",
       "        text-align: right;\n",
       "    }\n",
       "</style>\n",
       "<table border=\"1\" class=\"dataframe\">\n",
       "  <thead>\n",
       "    <tr style=\"text-align: right;\">\n",
       "      <th></th>\n",
       "      <th>Age</th>\n",
       "      <th>SibSp</th>\n",
       "      <th>Parch</th>\n",
       "      <th>Ticket</th>\n",
       "      <th>Fare</th>\n",
       "      <th>Name_ Master</th>\n",
       "      <th>Name_ Miss</th>\n",
       "      <th>Name_ Mr</th>\n",
       "      <th>Name_ Mrs</th>\n",
       "      <th>Sex_female</th>\n",
       "      <th>...</th>\n",
       "      <th>Cabin_E</th>\n",
       "      <th>Cabin_F</th>\n",
       "      <th>Cabin_G</th>\n",
       "      <th>Cabin_T</th>\n",
       "      <th>Embarked_C</th>\n",
       "      <th>Embarked_Q</th>\n",
       "      <th>Embarked_S</th>\n",
       "      <th>Pclass_1</th>\n",
       "      <th>Pclass_2</th>\n",
       "      <th>Pclass_3</th>\n",
       "    </tr>\n",
       "  </thead>\n",
       "  <tbody>\n",
       "    <tr>\n",
       "      <th>0</th>\n",
       "      <td>22.0</td>\n",
       "      <td>1</td>\n",
       "      <td>0</td>\n",
       "      <td>1</td>\n",
       "      <td>7.2500</td>\n",
       "      <td>0</td>\n",
       "      <td>0</td>\n",
       "      <td>1</td>\n",
       "      <td>0</td>\n",
       "      <td>0</td>\n",
       "      <td>...</td>\n",
       "      <td>0</td>\n",
       "      <td>0</td>\n",
       "      <td>0</td>\n",
       "      <td>0</td>\n",
       "      <td>0</td>\n",
       "      <td>0</td>\n",
       "      <td>1</td>\n",
       "      <td>0</td>\n",
       "      <td>0</td>\n",
       "      <td>1</td>\n",
       "    </tr>\n",
       "    <tr>\n",
       "      <th>1</th>\n",
       "      <td>38.0</td>\n",
       "      <td>1</td>\n",
       "      <td>0</td>\n",
       "      <td>2</td>\n",
       "      <td>71.2833</td>\n",
       "      <td>0</td>\n",
       "      <td>0</td>\n",
       "      <td>0</td>\n",
       "      <td>1</td>\n",
       "      <td>1</td>\n",
       "      <td>...</td>\n",
       "      <td>0</td>\n",
       "      <td>0</td>\n",
       "      <td>0</td>\n",
       "      <td>0</td>\n",
       "      <td>1</td>\n",
       "      <td>0</td>\n",
       "      <td>0</td>\n",
       "      <td>1</td>\n",
       "      <td>0</td>\n",
       "      <td>0</td>\n",
       "    </tr>\n",
       "    <tr>\n",
       "      <th>2</th>\n",
       "      <td>26.0</td>\n",
       "      <td>0</td>\n",
       "      <td>0</td>\n",
       "      <td>1</td>\n",
       "      <td>7.9250</td>\n",
       "      <td>0</td>\n",
       "      <td>1</td>\n",
       "      <td>0</td>\n",
       "      <td>0</td>\n",
       "      <td>1</td>\n",
       "      <td>...</td>\n",
       "      <td>0</td>\n",
       "      <td>0</td>\n",
       "      <td>0</td>\n",
       "      <td>0</td>\n",
       "      <td>0</td>\n",
       "      <td>0</td>\n",
       "      <td>1</td>\n",
       "      <td>0</td>\n",
       "      <td>0</td>\n",
       "      <td>1</td>\n",
       "    </tr>\n",
       "    <tr>\n",
       "      <th>3</th>\n",
       "      <td>35.0</td>\n",
       "      <td>1</td>\n",
       "      <td>0</td>\n",
       "      <td>2</td>\n",
       "      <td>53.1000</td>\n",
       "      <td>0</td>\n",
       "      <td>0</td>\n",
       "      <td>0</td>\n",
       "      <td>1</td>\n",
       "      <td>1</td>\n",
       "      <td>...</td>\n",
       "      <td>0</td>\n",
       "      <td>0</td>\n",
       "      <td>0</td>\n",
       "      <td>0</td>\n",
       "      <td>0</td>\n",
       "      <td>0</td>\n",
       "      <td>1</td>\n",
       "      <td>1</td>\n",
       "      <td>0</td>\n",
       "      <td>0</td>\n",
       "    </tr>\n",
       "    <tr>\n",
       "      <th>4</th>\n",
       "      <td>35.0</td>\n",
       "      <td>0</td>\n",
       "      <td>0</td>\n",
       "      <td>1</td>\n",
       "      <td>8.0500</td>\n",
       "      <td>0</td>\n",
       "      <td>0</td>\n",
       "      <td>1</td>\n",
       "      <td>0</td>\n",
       "      <td>0</td>\n",
       "      <td>...</td>\n",
       "      <td>0</td>\n",
       "      <td>0</td>\n",
       "      <td>0</td>\n",
       "      <td>0</td>\n",
       "      <td>0</td>\n",
       "      <td>0</td>\n",
       "      <td>1</td>\n",
       "      <td>0</td>\n",
       "      <td>0</td>\n",
       "      <td>1</td>\n",
       "    </tr>\n",
       "    <tr>\n",
       "      <th>...</th>\n",
       "      <td>...</td>\n",
       "      <td>...</td>\n",
       "      <td>...</td>\n",
       "      <td>...</td>\n",
       "      <td>...</td>\n",
       "      <td>...</td>\n",
       "      <td>...</td>\n",
       "      <td>...</td>\n",
       "      <td>...</td>\n",
       "      <td>...</td>\n",
       "      <td>...</td>\n",
       "      <td>...</td>\n",
       "      <td>...</td>\n",
       "      <td>...</td>\n",
       "      <td>...</td>\n",
       "      <td>...</td>\n",
       "      <td>...</td>\n",
       "      <td>...</td>\n",
       "      <td>...</td>\n",
       "      <td>...</td>\n",
       "      <td>...</td>\n",
       "    </tr>\n",
       "    <tr>\n",
       "      <th>413</th>\n",
       "      <td>28.0</td>\n",
       "      <td>0</td>\n",
       "      <td>0</td>\n",
       "      <td>1</td>\n",
       "      <td>8.0500</td>\n",
       "      <td>0</td>\n",
       "      <td>0</td>\n",
       "      <td>1</td>\n",
       "      <td>0</td>\n",
       "      <td>0</td>\n",
       "      <td>...</td>\n",
       "      <td>0</td>\n",
       "      <td>0</td>\n",
       "      <td>0</td>\n",
       "      <td>0</td>\n",
       "      <td>0</td>\n",
       "      <td>0</td>\n",
       "      <td>1</td>\n",
       "      <td>0</td>\n",
       "      <td>0</td>\n",
       "      <td>1</td>\n",
       "    </tr>\n",
       "    <tr>\n",
       "      <th>414</th>\n",
       "      <td>39.0</td>\n",
       "      <td>0</td>\n",
       "      <td>0</td>\n",
       "      <td>3</td>\n",
       "      <td>108.9000</td>\n",
       "      <td>0</td>\n",
       "      <td>0</td>\n",
       "      <td>0</td>\n",
       "      <td>0</td>\n",
       "      <td>1</td>\n",
       "      <td>...</td>\n",
       "      <td>0</td>\n",
       "      <td>0</td>\n",
       "      <td>0</td>\n",
       "      <td>0</td>\n",
       "      <td>1</td>\n",
       "      <td>0</td>\n",
       "      <td>0</td>\n",
       "      <td>1</td>\n",
       "      <td>0</td>\n",
       "      <td>0</td>\n",
       "    </tr>\n",
       "    <tr>\n",
       "      <th>415</th>\n",
       "      <td>38.5</td>\n",
       "      <td>0</td>\n",
       "      <td>0</td>\n",
       "      <td>1</td>\n",
       "      <td>7.2500</td>\n",
       "      <td>0</td>\n",
       "      <td>0</td>\n",
       "      <td>1</td>\n",
       "      <td>0</td>\n",
       "      <td>0</td>\n",
       "      <td>...</td>\n",
       "      <td>0</td>\n",
       "      <td>0</td>\n",
       "      <td>0</td>\n",
       "      <td>0</td>\n",
       "      <td>0</td>\n",
       "      <td>0</td>\n",
       "      <td>1</td>\n",
       "      <td>0</td>\n",
       "      <td>0</td>\n",
       "      <td>1</td>\n",
       "    </tr>\n",
       "    <tr>\n",
       "      <th>416</th>\n",
       "      <td>28.0</td>\n",
       "      <td>0</td>\n",
       "      <td>0</td>\n",
       "      <td>1</td>\n",
       "      <td>8.0500</td>\n",
       "      <td>0</td>\n",
       "      <td>0</td>\n",
       "      <td>1</td>\n",
       "      <td>0</td>\n",
       "      <td>0</td>\n",
       "      <td>...</td>\n",
       "      <td>0</td>\n",
       "      <td>0</td>\n",
       "      <td>0</td>\n",
       "      <td>0</td>\n",
       "      <td>0</td>\n",
       "      <td>0</td>\n",
       "      <td>1</td>\n",
       "      <td>0</td>\n",
       "      <td>0</td>\n",
       "      <td>1</td>\n",
       "    </tr>\n",
       "    <tr>\n",
       "      <th>417</th>\n",
       "      <td>28.0</td>\n",
       "      <td>1</td>\n",
       "      <td>1</td>\n",
       "      <td>3</td>\n",
       "      <td>22.3583</td>\n",
       "      <td>1</td>\n",
       "      <td>0</td>\n",
       "      <td>0</td>\n",
       "      <td>0</td>\n",
       "      <td>0</td>\n",
       "      <td>...</td>\n",
       "      <td>0</td>\n",
       "      <td>0</td>\n",
       "      <td>0</td>\n",
       "      <td>0</td>\n",
       "      <td>1</td>\n",
       "      <td>0</td>\n",
       "      <td>0</td>\n",
       "      <td>0</td>\n",
       "      <td>0</td>\n",
       "      <td>1</td>\n",
       "    </tr>\n",
       "  </tbody>\n",
       "</table>\n",
       "<p>1309 rows × 25 columns</p>\n",
       "</div>"
      ],
      "text/plain": [
       "      Age  SibSp  Parch  Ticket      Fare  Name_ Master  Name_ Miss  Name_ Mr  \\\n",
       "0    22.0      1      0       1    7.2500             0           0         1   \n",
       "1    38.0      1      0       2   71.2833             0           0         0   \n",
       "2    26.0      0      0       1    7.9250             0           1         0   \n",
       "3    35.0      1      0       2   53.1000             0           0         0   \n",
       "4    35.0      0      0       1    8.0500             0           0         1   \n",
       "..    ...    ...    ...     ...       ...           ...         ...       ...   \n",
       "413  28.0      0      0       1    8.0500             0           0         1   \n",
       "414  39.0      0      0       3  108.9000             0           0         0   \n",
       "415  38.5      0      0       1    7.2500             0           0         1   \n",
       "416  28.0      0      0       1    8.0500             0           0         1   \n",
       "417  28.0      1      1       3   22.3583             1           0         0   \n",
       "\n",
       "     Name_ Mrs  Sex_female  ...  Cabin_E  Cabin_F  Cabin_G  Cabin_T  \\\n",
       "0            0           0  ...        0        0        0        0   \n",
       "1            1           1  ...        0        0        0        0   \n",
       "2            0           1  ...        0        0        0        0   \n",
       "3            1           1  ...        0        0        0        0   \n",
       "4            0           0  ...        0        0        0        0   \n",
       "..         ...         ...  ...      ...      ...      ...      ...   \n",
       "413          0           0  ...        0        0        0        0   \n",
       "414          0           1  ...        0        0        0        0   \n",
       "415          0           0  ...        0        0        0        0   \n",
       "416          0           0  ...        0        0        0        0   \n",
       "417          0           0  ...        0        0        0        0   \n",
       "\n",
       "     Embarked_C  Embarked_Q  Embarked_S  Pclass_1  Pclass_2  Pclass_3  \n",
       "0             0           0           1         0         0         1  \n",
       "1             1           0           0         1         0         0  \n",
       "2             0           0           1         0         0         1  \n",
       "3             0           0           1         1         0         0  \n",
       "4             0           0           1         0         0         1  \n",
       "..          ...         ...         ...       ...       ...       ...  \n",
       "413           0           0           1         0         0         1  \n",
       "414           1           0           0         1         0         0  \n",
       "415           0           0           1         0         0         1  \n",
       "416           0           0           1         0         0         1  \n",
       "417           1           0           0         0         0         1  \n",
       "\n",
       "[1309 rows x 25 columns]"
      ]
     },
     "execution_count": 11,
     "metadata": {},
     "output_type": "execute_result"
    }
   ],
   "source": [
    "# Pclass -> One hot encoding\n",
    "total = pd.get_dummies(total, columns=[\"Pclass\"])   # Pclass資料型態為數字, 額外one hot\n",
    "\n",
    "total"
   ]
  },
  {
   "cell_type": "code",
   "execution_count": 12,
   "id": "e194c75a",
   "metadata": {
    "execution": {
     "iopub.execute_input": "2023-05-16T04:21:51.560962Z",
     "iopub.status.busy": "2023-05-16T04:21:51.560528Z",
     "iopub.status.idle": "2023-05-16T04:21:51.567122Z",
     "shell.execute_reply": "2023-05-16T04:21:51.565801Z"
    },
    "papermill": {
     "duration": 0.015174,
     "end_time": "2023-05-16T04:21:51.568995",
     "exception": false,
     "start_time": "2023-05-16T04:21:51.553821",
     "status": "completed"
    },
    "tags": []
   },
   "outputs": [],
   "source": [
    "# 額外增加Family欄位 -> 避免決策樹 僅單獨考慮 SibSp or ParCh 而沒有考慮到家人總數\n",
    "total[\"Family\"] = total[\"SibSp\"] + total[\"Parch\"]"
   ]
  },
  {
   "cell_type": "code",
   "execution_count": 13,
   "id": "1c37fe31",
   "metadata": {
    "execution": {
     "iopub.execute_input": "2023-05-16T04:21:51.581686Z",
     "iopub.status.busy": "2023-05-16T04:21:51.581344Z",
     "iopub.status.idle": "2023-05-16T04:21:51.589673Z",
     "shell.execute_reply": "2023-05-16T04:21:51.588683Z"
    },
    "papermill": {
     "duration": 0.017337,
     "end_time": "2023-05-16T04:21:51.591874",
     "exception": false,
     "start_time": "2023-05-16T04:21:51.574537",
     "status": "completed"
    },
    "tags": []
   },
   "outputs": [
    {
     "data": {
      "text/plain": [
       "((891, 26), (891,), (418, 26))"
      ]
     },
     "execution_count": 13,
     "metadata": {},
     "output_type": "execute_result"
    }
   ],
   "source": [
    "# 資料分類\n",
    "import numpy as np\n",
    "x = np.array(total.iloc[ :len(train) ])   # x_train\n",
    "y = np.array(train[\"Survived\"])   # y_train\n",
    "\n",
    "x_predict = np.array(total.iloc[ len(train): ])\n",
    "\n",
    "x.shape, y.shape, x_predict.shape"
   ]
  },
  {
   "cell_type": "code",
   "execution_count": 14,
   "id": "fa3271eb",
   "metadata": {
    "execution": {
     "iopub.execute_input": "2023-05-16T04:21:51.604903Z",
     "iopub.status.busy": "2023-05-16T04:21:51.604524Z",
     "iopub.status.idle": "2023-05-16T04:21:51.615248Z",
     "shell.execute_reply": "2023-05-16T04:21:51.614417Z"
    },
    "papermill": {
     "duration": 0.019224,
     "end_time": "2023-05-16T04:21:51.616956",
     "exception": false,
     "start_time": "2023-05-16T04:21:51.597732",
     "status": "completed"
    },
    "tags": []
   },
   "outputs": [
    {
     "data": {
      "text/plain": [
       "Series([], dtype: int64)"
      ]
     },
     "execution_count": 14,
     "metadata": {},
     "output_type": "execute_result"
    }
   ],
   "source": [
    "# 確認所有欄位有無空值\n",
    "total.isna().sum()\n",
    "\n",
    "total.isna().sum() [total.isna().sum() != 0]"
   ]
  },
  {
   "cell_type": "markdown",
   "id": "bc66c4c6",
   "metadata": {
    "papermill": {
     "duration": 0.005236,
     "end_time": "2023-05-16T04:21:51.627885",
     "exception": false,
     "start_time": "2023-05-16T04:21:51.622649",
     "status": "completed"
    },
    "tags": []
   },
   "source": [
    "# 額外補充\n",
    "1. Pandas 篩選操作\n",
    "2. loc vs iloc\n",
    "3. 資料分類方式"
   ]
  },
  {
   "cell_type": "code",
   "execution_count": 15,
   "id": "081ab7a6",
   "metadata": {
    "collapsed": true,
    "execution": {
     "iopub.execute_input": "2023-05-16T04:21:51.639844Z",
     "iopub.status.busy": "2023-05-16T04:21:51.639489Z",
     "iopub.status.idle": "2023-05-16T04:21:51.649541Z",
     "shell.execute_reply": "2023-05-16T04:21:51.648354Z"
    },
    "jupyter": {
     "outputs_hidden": true
    },
    "papermill": {
     "duration": 0.018279,
     "end_time": "2023-05-16T04:21:51.651379",
     "exception": false,
     "start_time": "2023-05-16T04:21:51.633100",
     "status": "completed"
    },
    "tags": []
   },
   "outputs": [
    {
     "data": {
      "text/html": [
       "<div>\n",
       "<style scoped>\n",
       "    .dataframe tbody tr th:only-of-type {\n",
       "        vertical-align: middle;\n",
       "    }\n",
       "\n",
       "    .dataframe tbody tr th {\n",
       "        vertical-align: top;\n",
       "    }\n",
       "\n",
       "    .dataframe thead th {\n",
       "        text-align: right;\n",
       "    }\n",
       "</style>\n",
       "<table border=\"1\" class=\"dataframe\">\n",
       "  <thead>\n",
       "    <tr style=\"text-align: right;\">\n",
       "      <th></th>\n",
       "      <th>0</th>\n",
       "      <th>1</th>\n",
       "    </tr>\n",
       "  </thead>\n",
       "  <tbody>\n",
       "    <tr>\n",
       "      <th>0</th>\n",
       "      <td>1</td>\n",
       "      <td>2</td>\n",
       "    </tr>\n",
       "    <tr>\n",
       "      <th>2</th>\n",
       "      <td>5</td>\n",
       "      <td>6</td>\n",
       "    </tr>\n",
       "  </tbody>\n",
       "</table>\n",
       "</div>"
      ],
      "text/plain": [
       "   0  1\n",
       "0  1  2\n",
       "2  5  6"
      ]
     },
     "execution_count": 15,
     "metadata": {},
     "output_type": "execute_result"
    }
   ],
   "source": [
    "# Pandas 篩選操作\n",
    "test_df = pd.DataFrame([\n",
    "    [1, 2],\n",
    "    [3, 4],\n",
    "    [5, 6]\n",
    "])\n",
    "\n",
    "test_df[ [True, False, True] ]"
   ]
  },
  {
   "cell_type": "code",
   "execution_count": 16,
   "id": "92910f64",
   "metadata": {
    "execution": {
     "iopub.execute_input": "2023-05-16T04:21:51.664236Z",
     "iopub.status.busy": "2023-05-16T04:21:51.663842Z",
     "iopub.status.idle": "2023-05-16T04:21:51.675029Z",
     "shell.execute_reply": "2023-05-16T04:21:51.674318Z"
    },
    "papermill": {
     "duration": 0.020023,
     "end_time": "2023-05-16T04:21:51.676891",
     "exception": false,
     "start_time": "2023-05-16T04:21:51.656868",
     "status": "completed"
    },
    "tags": []
   },
   "outputs": [
    {
     "data": {
      "text/plain": [
       "0    1\n",
       "1    2\n",
       "Name: 0, dtype: int64"
      ]
     },
     "execution_count": 16,
     "metadata": {},
     "output_type": "execute_result"
    }
   ],
   "source": [
    "# loc vs iloc\n",
    "test_df = pd.DataFrame([\n",
    "    [1, 2],\n",
    "    [3, 4]\n",
    "], index=[0, 0])\n",
    "\n",
    "test_df.loc[0]   # 會將兩列都取出 (因兩列的index都為0)\n",
    "test_df.iloc[0]   # 僅取出index為0的第一列"
   ]
  },
  {
   "cell_type": "code",
   "execution_count": 17,
   "id": "65462714",
   "metadata": {
    "execution": {
     "iopub.execute_input": "2023-05-16T04:21:51.689842Z",
     "iopub.status.busy": "2023-05-16T04:21:51.689503Z",
     "iopub.status.idle": "2023-05-16T04:21:51.693191Z",
     "shell.execute_reply": "2023-05-16T04:21:51.692389Z"
    },
    "papermill": {
     "duration": 0.011888,
     "end_time": "2023-05-16T04:21:51.694783",
     "exception": false,
     "start_time": "2023-05-16T04:21:51.682895",
     "status": "completed"
    },
    "tags": []
   },
   "outputs": [],
   "source": [
    "# 資料分類方式\n",
    "# 分兩份 -> train / test   -> 依照test結果, 調整模型參數\n",
    "\n",
    "# 分三份 -> train / test / valid   -> 同上, 但最後用完全沒看過的 valid 驗證模型"
   ]
  },
  {
   "cell_type": "code",
   "execution_count": null,
   "id": "519287b5",
   "metadata": {
    "papermill": {
     "duration": 0.005175,
     "end_time": "2023-05-16T04:21:51.705582",
     "exception": false,
     "start_time": "2023-05-16T04:21:51.700407",
     "status": "completed"
    },
    "tags": []
   },
   "outputs": [],
   "source": []
  }
 ],
 "metadata": {
  "kernelspec": {
   "display_name": "Python 3",
   "language": "python",
   "name": "python3"
  },
  "language_info": {
   "codemirror_mode": {
    "name": "ipython",
    "version": 3
   },
   "file_extension": ".py",
   "mimetype": "text/x-python",
   "name": "python",
   "nbconvert_exporter": "python",
   "pygments_lexer": "ipython3",
   "version": "3.10.10"
  },
  "papermill": {
   "default_parameters": {},
   "duration": 12.311344,
   "end_time": "2023-05-16T04:21:52.534449",
   "environment_variables": {},
   "exception": null,
   "input_path": "__notebook__.ipynb",
   "output_path": "__notebook__.ipynb",
   "parameters": {},
   "start_time": "2023-05-16T04:21:40.223105",
   "version": "2.4.0"
  }
 },
 "nbformat": 4,
 "nbformat_minor": 5
}
